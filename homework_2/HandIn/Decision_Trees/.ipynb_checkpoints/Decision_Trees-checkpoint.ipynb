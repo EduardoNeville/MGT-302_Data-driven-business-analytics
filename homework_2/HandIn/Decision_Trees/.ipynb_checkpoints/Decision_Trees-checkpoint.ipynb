{
 "cells": [
  {
   "cell_type": "markdown",
   "metadata": {},
   "source": [
    "# Data driven business analytics - Homework 2\n"
   ]
  },
  {
   "cell_type": "markdown",
   "metadata": {},
   "source": [
    "## Problem 1. Decision trees"
   ]
  },
  {
   "cell_type": "markdown",
   "metadata": {},
   "source": [
    "### Implementing the split step \n",
    "First, you will implement the split step of the decision tree. To do this we ask you to implement:\n",
    "- `entropy` - computes the entropy of a random variable\n",
    "- `mutual information` - computes mutual information between two binary random variables\n",
    "- `split` - splits the data according to a given threshold\n",
    "- `best_split` - outputs the best feature and the best threshold to partition the data, based on maximization of the mutual information scores"
   ]
  },
  {
   "cell_type": "code",
   "execution_count": 1,
   "metadata": {},
   "outputs": [],
   "source": [
    "import numpy as np"
   ]
  },
  {
   "cell_type": "code",
   "execution_count": 2,
   "metadata": {},
   "outputs": [],
   "source": [
    "def entropy(x):\n",
    "    \"\"\"\n",
    "    Parameters:\n",
    "        x - 1 dimensional numpy vector\n",
    "    Return:\n",
    "        res - float number\n",
    "    \"\"\"\n",
    "    ############################################################################\n",
    "    # TODO: Computes the entropy.                                              #\n",
    "    #  Remark: make sure that you use base 2 logarithm,                        #\n",
    "    #         (you may use np.log2)                                            #\n",
    "    ############################################################################\n",
    "    # Replace \"...\" with your code\n",
    "    \n",
    "    res = ...\n",
    "\n",
    "    ############################################################################\n",
    "    #                               END OF YOUR CODE                           #\n",
    "    ############################################################################\n",
    "    \n",
    "    return res\n",
    "\n",
    "\n",
    "def mutual_information(x, y):\n",
    "    \"\"\"\n",
    "    Parameters:\n",
    "        x - 1 dimensional numpy vector of binary values\n",
    "        y - 1 dimentional numpy vector of binary values\n",
    "    Return:\n",
    "        res - float\n",
    "    \"\"\"\n",
    "    ############################################################################\n",
    "    # TODO: Compute the mutual information between binary data x and y         #\n",
    "    ############################################################################\n",
    "    # Replace \"...\" with your code\n",
    "    \n",
    "    res = ...\n",
    "\n",
    "    ############################################################################\n",
    "    #                               END OF YOUR CODE                           #\n",
    "    ############################################################################\n",
    "\n",
    "    return res\n",
    "    \n",
    "\n",
    "\n",
    "def split(x_col, threshold):\n",
    "    \"\"\"\n",
    "    Parameters:\n",
    "        x_col - 1 dimensional numpy vector\n",
    "        threshold - float\n",
    "    Return:\n",
    "        left_ids - 1 dimensional numpy array\n",
    "        right_ids - 1 dimensional numpy array\n",
    "    \"\"\"\n",
    "    ############################################################################\n",
    "    # TODO: You should split indices of x_col such that:                       #\n",
    "    #   - (i)   left_ids contains the indices of x_col that corresponds to     #\n",
    "    #           the entries of x_col that are smaller or equal than threshold  #\n",
    "    #   - (ii)  right_ids contains the indices of x_col that corresponds to    #\n",
    "    #           the entries of x_col that are bigger than threshold            #\n",
    "    ############################################################################\n",
    "    # Replace \"...\" with your code\n",
    "    left_ids = ...\n",
    "    right_ids = ...\n",
    "\n",
    "    ############################################################################\n",
    "    #                               END OF YOUR CODE                           #\n",
    "    ############################################################################\n",
    "\n",
    "    return left_ids, right_ids"
   ]
  },
  {
   "cell_type": "markdown",
   "metadata": {},
   "source": [
    "You are now ready to implement the function that performs the split step in the building of the Decision Tree. The method `best_split` should find the value of `threshold` and the feature $X_i$ (where $i$ is the id of the column of $X$) from the set of all features $X=(X_1, X_2, \\dots X_m)$ (all columns) that generates the best bipartition of the dataset, based on the comparison of feature $X_i$ to a `threshold` $t$ in terms of maximality of mutual information. \n",
    "\n",
    "In other words, you need to find a feature $X_i$ and a threshold $t$ which maximize the mutual information $I(Y\\, ; \\,X'_i)$, where $X'_i=1$ if $X_i<=t$ and $X'_i=0$ otherwise.\n",
    "\n",
    "Note that $Y$ is always considered binary in our applications."
   ]
  },
  {
   "cell_type": "code",
   "execution_count": 3,
   "metadata": {},
   "outputs": [],
   "source": [
    "def best_split(x, y):\n",
    "    \"\"\"\n",
    "    Parameters:\n",
    "        x - numpy vector of the shape (n, m)\n",
    "        y - numpy vector of the shape (n,)\n",
    "    Return:\n",
    "        split_id - int\n",
    "        split_threshold - float\n",
    "        best_score - float\n",
    "    \"\"\"\n",
    "    ############################################################################\n",
    "    # TODO: Find the index of the feature (column index of x) and its          #\n",
    "    #   corresponding threshold that generates the best split with respect to  #\n",
    "    #   the mutual information metrics.                                        #\n",
    "    #   - (i)   you should iterate through all possible features (columns of x)#\n",
    "    #           AND all possible thresholds to carry out the ones that         #\n",
    "    #           maximize mutual information                                    #\n",
    "    #   - (ii)  the set of possible thresholds for a specific feature should be#\n",
    "    #           the set of unique values that this feature takes (all unique   #\n",
    "    #           values in a corresponding column of x)                         #\n",
    "    ############################################################################\n",
    "    # Replace \"...\" with your code\n",
    "    \n",
    "    best_score = ...\n",
    "    split_id, split_threshold = ...\n",
    "\n",
    "    ############################################################################\n",
    "    #                               END OF YOUR CODE                           #\n",
    "    ############################################################################\n",
    "\n",
    "    return split_id, split_threshold, best_score"
   ]
  },
  {
   "cell_type": "markdown",
   "metadata": {},
   "source": [
    "Hereafter are several tests that you can run to assess the correctness of your code. You just have to run them, without any modification."
   ]
  },
  {
   "cell_type": "code",
   "execution_count": 4,
   "metadata": {},
   "outputs": [],
   "source": [
    "import os\n",
    "import random \n",
    "import pandas as pd\n",
    "\n",
    "file_path = os.getcwd() + \"/heart.csv\"\n",
    "data = pd.read_csv(file_path)\n",
    "x = data.drop(columns=[\"target\"]).to_numpy()\n",
    "y = data[\"target\"].to_numpy()"
   ]
  },
  {
   "cell_type": "code",
   "execution_count": 5,
   "metadata": {},
   "outputs": [
    {
     "name": "stdout",
     "output_type": "stream",
     "text": [
      "The entropy is: Ellipsis\n",
      "Correct value of the entropy: 0.9942\n"
     ]
    }
   ],
   "source": [
    "### Test for entropy\n",
    "y_entropy = entropy(y)\n",
    "print(f\"The entropy from your code is: {y_entropy}\")\n",
    "print(\"Correct value of the entropy: 0.9942\")"
   ]
  },
  {
   "cell_type": "code",
   "execution_count": null,
   "metadata": {},
   "outputs": [],
   "source": [
    "### Test for split\n",
    "col = 0\n",
    "x_col = x[:, col]\n",
    "threshold = 54\n",
    "left_ids, right_ids = split(x_col, threshold)\n",
    "res = np.sum(y[left_ids]**2 + y[left_ids] + 2)\n",
    "print(f\"The hash from your code is: {res}\")\n",
    "print(\"Correct hash is: 488\")"
   ]
  },
  {
   "cell_type": "code",
   "execution_count": null,
   "metadata": {},
   "outputs": [],
   "source": [
    "### Test for mutual information\n",
    "seed = 13\n",
    "np.random.seed(13)\n",
    "p = np.random.rand()\n",
    "x = [sample if np.random.rand()<p else np.random.randint(2) for sample in y]\n",
    "x = np.array(x)\n",
    "xy_mut_inf = mutual_information(x, y)\n",
    "print(f\"The mutual information between x and y computed from your code is {xy_mut_inf}\")\n",
    "print(\"Correct mutual information between x and y is 0.4893\")"
   ]
  },
  {
   "cell_type": "markdown",
   "metadata": {},
   "source": [
    "### Vizualize decision trees\n",
    "In this second part, you will train a Decision Tree Classifier using `sklearn` to predict whether a patient has a heart disease. For this, we provide you with the anonymized medical data gathered into the `heart.csv` file. This file contains samples of $(X_1,\\ldots, X_d,Y)$ where the final variable \"target\" indicates the presence of heart disease ($Y=1$) or absence thereof ($Y=0$). You are asked to:\n",
    "\n",
    "- Split the data into train and test datasets, \n",
    "- Then, use the train dataset to fit your Desicion Tree Classifier,\n",
    "- Evaluate the prediction performance on the test dataset,\n",
    "- Visualize the Decision Tree Classifier."
   ]
  },
  {
   "cell_type": "markdown",
   "metadata": {},
   "source": [
    "The cells below import some packages, and load the data. Please run them with no modification."
   ]
  },
  {
   "cell_type": "code",
   "execution_count": 6,
   "metadata": {},
   "outputs": [],
   "source": [
    "from sklearn.tree import DecisionTreeClassifier\n",
    "from sklearn import tree\n",
    "from sklearn.model_selection import train_test_split\n",
    "from sklearn.metrics import f1_score\n",
    "import matplotlib.pyplot as plt"
   ]
  },
  {
   "cell_type": "code",
   "execution_count": 7,
   "metadata": {},
   "outputs": [],
   "source": [
    "file_path = os.getcwd() + \"/heart.csv\"\n",
    "data = pd.read_csv(file_path)\n",
    "x = data.drop(columns=[\"target\"]).to_numpy()\n",
    "y = data[\"target\"].to_numpy()"
   ]
  },
  {
   "cell_type": "markdown",
   "metadata": {},
   "source": [
    "Then, you can fill in the code below."
   ]
  },
  {
   "cell_type": "code",
   "execution_count": null,
   "metadata": {},
   "outputs": [],
   "source": [
    "seed = 26\n",
    "np.random.seed(seed)\n",
    "random.seed(seed)\n",
    "\n",
    "train_size = 0.8\n",
    "test_size = 1 - train_size\n",
    "\n",
    "# Replace \"...\" with your code\n",
    "\n",
    "# split the x and y datasets into train and test datasets\n",
    "# Hint: use train_test_split function\n",
    "x_train, x_test, y_train, y_test = ..."
   ]
  },
  {
   "cell_type": "code",
   "execution_count": null,
   "metadata": {},
   "outputs": [],
   "source": [
    "# Replace \"...\" with your code\n",
    "# Initialize the DecisionTreeClassifier that uses entropy split criterion\n",
    "# You can look into the documentation of DecisionTreeClassifier to figure out how to specify all the parameters\n",
    "# Remark: any reasonable choise of max_depth and min_samples_leaf will be fine\n",
    "max_depth = ...\n",
    "min_samples_leaf = ...\n",
    "model = ...\n",
    "\n",
    "# Fit your model on the train dataset\n",
    "model = ..."
   ]
  },
  {
   "cell_type": "code",
   "execution_count": null,
   "metadata": {},
   "outputs": [],
   "source": [
    "# Replace \"...\" with your code\n",
    "# Predict heart disease on the test data\n",
    "y_pred = ...\n",
    "\n",
    "# Compute the accuracy and the F1-score for your prediction\n",
    "acc = ...\n",
    "f1 = ...\n",
    "print(f\"Accuracy: {acc}\")\n",
    "print(f\"F1 score: {f1}\")"
   ]
  },
  {
   "cell_type": "code",
   "execution_count": null,
   "metadata": {},
   "outputs": [],
   "source": [
    "# Replace \"...\" with your code\n",
    "# Visualization of the decision tree\n",
    "# Hint: serach for the sklearn methods to export your tree as a jpeg file\n",
    "plt.figure(figsize=(30, 12))\n",
    "...\n",
    "plt.savefig('decision_tree.jpeg')"
   ]
  },
  {
   "cell_type": "markdown",
   "metadata": {},
   "source": [
    "### Linking first and second part\n",
    "We can now check that the Decision Tree Classifier from `sklearn` did the same computations as we did in our first part. Fill in the following code to compute the feature and threshold that generate the best split with the functions implemented in the first part. "
   ]
  },
  {
   "cell_type": "code",
   "execution_count": null,
   "metadata": {},
   "outputs": [],
   "source": [
    "# Replace \"...\" with your code\n",
    "# Compute the feature and threshold that generates the best split with the functions implemented in Task 1\n",
    "split_id, split_threshold, best_score = ...\n",
    "print(f\"Feature for the split: {split_id} {data.columns[split_id]}\")\n",
    "print(f\"Split threshold: {split_threshold}\")\n",
    "print(f\"Best mutual information: {best_score}\")"
   ]
  },
  {
   "cell_type": "markdown",
   "metadata": {},
   "source": [
    "**Question:** Are the first features/thresholds the same in our method and in the Decision Tree Classifier from `sklearn`? If no, is there a big difference between them?\n",
    "\n",
    "**Answer:**"
   ]
  },
  {
   "cell_type": "markdown",
   "metadata": {},
   "source": [
    "**Question:** How can you recover the *best mutual information* obtained from our code in part one from the tree obtained in the end of the second part?\n",
    "\n",
    "**Answer:**"
   ]
  }
 ],
 "metadata": {
  "kernelspec": {
   "display_name": "Python 3 (ipykernel)",
   "language": "python",
   "name": "python3"
  },
  "language_info": {
   "codemirror_mode": {
    "name": "ipython",
    "version": 3
   },
   "file_extension": ".py",
   "mimetype": "text/x-python",
   "name": "python",
   "nbconvert_exporter": "python",
   "pygments_lexer": "ipython3",
   "version": "3.9.13"
  }
 },
 "nbformat": 4,
 "nbformat_minor": 2
}
