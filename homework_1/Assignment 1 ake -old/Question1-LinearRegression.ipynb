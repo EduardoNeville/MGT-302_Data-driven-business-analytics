{
 "cells": [
  {
   "cell_type": "code",
   "execution_count": 1,
   "id": "76fae056-437a-46ee-b3e0-7558526da309",
   "metadata": {},
   "outputs": [],
   "source": [
    "import numpy as np \n",
    "import scipy.io\n",
    "import matplotlib.pyplot as plt\n",
    "from mpl_toolkits.axes_grid1 import host_subplot\n",
    "import mpl_toolkits.axisartist as AA\n",
    "import time\n",
    "\n",
    "from IPython.display import clear_output\n",
    "import multiprocessing\n",
    "from multiprocessing import Pool\n",
    "import tqdm\n",
    "\n",
    "from LocalUtilities import *\n",
    "\n",
    "np.seterr(all=\"ignore\");"
   ]
  },
  {
   "cell_type": "markdown",
   "id": "49172b07-24cb-4691-843e-fa70510480bc",
   "metadata": {},
   "source": [
    "\n",
    "\n",
    "# 1 Linear Regression"
   ]
  },
  {
   "cell_type": "markdown",
   "id": "bc02be1b-04f5-421c-8a89-8ca53323bea5",
   "metadata": {},
   "source": [
    "A scientist studying weight fluctuation has collected data from some people. She is specifically interested in studying the influence of some features on the weight fluctuations of people. She collects data {$x^{(i)}$, $y^{(i)}$}$^{m}_{i=1}$, where $y^{(i)}$ is a continuous variable indicating the weight change, and $x^{(i)}$ = ($x_{i1}$, $x_{i2}$, . . . , $x_{id}$) are the variables which record different properties of people. These features are weight, height, age, amount of exercise time per day, and incoming calories per day. She also proceeds to collect new data to predict the weight change by using sound statistical methods. The dataset contains both the training and testing data. $\\textbf{Note that you need to normalize the features}$."
   ]
  },
  {
   "cell_type": "markdown",
   "id": "a4efa05a-014c-4c1b-ac37-54ae3fa8aa85",
   "metadata": {},
   "source": [
    "Assume that sample size is $m$ = 200 and number of features is $d$ = 5. We model the problem as linear regression with cost function\n",
    "$$\n",
    "J(\\Theta) = \\frac{1}{2 m} \\sum^{m}_{i=1}(h_{\\Theta}(x^{(i)}) - y^{(i)})^2\\text{,}\n",
    "$$\n",
    "where $h_{\\Theta}(x^{(i)}) = \\Theta_0 + \\Theta_1x^{(i)}_1 + \\cdots + \\Theta_dx^{(i)}_d $."
   ]
  },
  {
   "cell_type": "markdown",
   "id": "a15eeedd-4761-491f-90a6-3fccee36b8e9",
   "metadata": {},
   "source": [
    "## 1. Gradient Descent (GD)"
   ]
  },
  {
   "cell_type": "markdown",
   "id": "c2ef0ac6-e8e3-410d-9ab1-4879aa62a9bc",
   "metadata": {},
   "source": [
    "#### (a) State the gradient of your cost function."
   ]
  },
  {
   "cell_type": "markdown",
   "id": "799387b4-a0c6-47f9-9004-77f9c064c44c",
   "metadata": {},
   "source": [
    "The gradient of the cost function is \n",
    "$$\n",
    "\\nabla_{\\Theta} J(\\Theta) = \\frac{1}{2 m} \\sum^{m}_{i=1}\\nabla_{\\Theta}( h_{\\Theta}(x^{(i)}) - y^{(i)})^2\\text{.}\n",
    "$$\n",
    "Since \n",
    "$$\n",
    "\\nabla_{\\Theta}( h_{\\Theta}(x^{(i)}) - y^{(i)})^2 = \\nabla_{\\Theta} ( \\Theta_0 + \\Theta_1x^{(i)}_1 + \\cdots + \\Theta_dx^{(i)}_d - y^{(i)} )^2\\\\ \n",
    "=2\\begin{pmatrix}1 \\\\ x^{(i)}_1 \\\\ \\cdots \\\\ x^{(i)}_d\\end{pmatrix}( \\Theta_0 + \\Theta_1x^{(i)}_1 + \\cdots + \\Theta_dx^{(i)}_d - y^{(i)} ) \n",
    "= 2 \\begin{pmatrix}1 \\\\ x^{(i)}_1 \\\\ \\cdots \\\\ x^{(i)}_d\\end{pmatrix}(h_{\\Theta}(x^{(i)}) - y^{(i)})  \\text{,}\n",
    "$$\n",
    "we get the following,\n",
    "$$\n",
    "\\nabla_{\\Theta} J(\\Theta) = \\frac{1}{m} \\sum^{m}_{i=1}  \\begin{pmatrix}1 \\\\ x^{(i)}_1 \\\\ \\cdots \\\\ x^{(i)}_d\\end{pmatrix}(h_{\\Theta}(x^{(i)}) - y^{(i)}) \\text{.}\n",
    "$$"
   ]
  },
  {
   "cell_type": "markdown",
   "id": "e7ebdb57-69af-4109-8aac-fb83122c610a",
   "metadata": {},
   "source": [
    "Using the gradient of our cost function, we can now implement the Gradient Descent algorithm. The algorithm minimizes the cost function with a simple update rule: $\\Theta := \\Theta - \\alpha \\nabla_\\Theta J(\\Theta)$. Until it converges.\n",
    "We define $\\alpha$ as a the step-size (or the learning rate) of the algorithm, it takes a value between 0 and 1."
   ]
  },
  {
   "cell_type": "markdown",
   "id": "40b79b00-2569-4bba-b268-4ce266c1f645",
   "metadata": {},
   "source": [
    "#### (b) Implementation of the gradient descent algorithm"
   ]
  },
  {
   "cell_type": "markdown",
   "id": "d861071f-01c5-4814-ab07-f9bc5b691528",
   "metadata": {},
   "source": [
    "Implement the gradient descent method using your derived gradient to minimize the cost function. Fit the model ($\\Theta$) using training data (weighttrain.mat), and report the learned model and the cost function for the learned model. Try to tune step-size $\\alpha$ of GD to reach the fastest converging rate of decreasing cost function in time.\n",
    "\n",
    "**Important notes:** For this question, at each iteration, do not update all the $\\Theta$ is simultaneously, instead update them one by one. Also, set the initial value to zero vector. Moreover, make sure you do enough iterations so that your model converges."
   ]
  },
  {
   "cell_type": "markdown",
   "id": "ce5e1d31-ee46-473a-9cae-50730a5aa092",
   "metadata": {},
   "source": [
    "Firstly, we import the training data into two NumPy arrays called x and y."
   ]
  },
  {
   "cell_type": "code",
   "execution_count": 2,
   "id": "8d22224a-6308-48e8-99a0-792b0ced2316",
   "metadata": {},
   "outputs": [],
   "source": [
    "#Loading the training data\n",
    "mat = scipy.io.loadmat('Q1-Dataset/weighttrain.mat')\n",
    "\n",
    "#Converting from dictonary array into numpy array\n",
    "x = np.array(mat['x'])\n",
    "y = np.array(mat['y'])\n",
    "#Normalising the features for optimal performance \n",
    "norme_of_x = np.linalg.norm(x)\n",
    "x = x / norme_of_x"
   ]
  },
  {
   "cell_type": "markdown",
   "id": "e4117f7c-5ed1-4dd4-affd-fd9ebbe5b592",
   "metadata": {},
   "source": [
    "Next, we define $h_\\Theta(x^{(i)})$, the cost function and the gradient of the cost function."
   ]
  },
  {
   "cell_type": "code",
   "execution_count": 1,
   "id": "90dff00a-8605-4620-b39d-bf49114b30ca",
   "metadata": {},
   "outputs": [],
   "source": [
    "def h_Theta(Theta_,x_i_):\n",
    "    return Theta_[0] + np.dot(Theta_[1:6],x_i_)\n",
    "\n",
    "def cost_func(Theta_,x_,y_):\n",
    "    _sum = 0\n",
    "    for x_i, y_i in zip(x_, y_):\n",
    "        _sum = _sum + np.square( h_Theta( Theta_, x_i ) - y_i )\n",
    "        \n",
    "    return np.divide(_sum,2*np.size(x,0))\n",
    "    \n",
    "def cost_func_grad(Theta_,x_,y_):\n",
    "    _sum = 0\n",
    "    for x_i, y_i in zip(x_, y_):\n",
    "        _sum = _sum + ( h_Theta( Theta_,x_i ) - y_i ) * np.insert(x_i, 0, 1)\n",
    "        \n",
    "    return _sum/np.size(x_,0)\n",
    "\n",
    "def gd_iterration(Theta_,alpha_,x_,y_):\n",
    "        return Theta_ - alpha_ * cost_func_grad(Theta_,x_,y_)\n",
    "\n",
    "def GD(Theta_, alpha_, x_, y_, IterMax_, StepLim_):\n",
    "    tic = time.process_time()\n",
    "    Theta_old_ = Theta_\n",
    "    Theta_[0] = gd_iterration(Theta_,alpha_,x_,y_)[0]\n",
    "    Iterractions = 1\n",
    "    for k in range(6):\n",
    "        Theta_old_ = Theta_\n",
    "        Theta_[k] = gd_iterration(Theta_,alpha_,x_,y_)[k]\n",
    "        Iterractions = Iterractions + 1\n",
    "        #while not abs(cost_func_grad(Theta_,x_,y_)-cost_func_grad(Theta_old_,x_,y_))[k] < StepLim:\n",
    "        #while not abs(cost_func(Theta_,x_,y_)-cost_func(Theta_old_,x_,y_)) < StepLim:\n",
    "        while not(Theta_[k] == Theta_old_[k]):\n",
    "            Theta_old_[k] = Theta_[k]\n",
    "            Theta_[k] = gd_iterration(Theta_,alpha_,x_,y_)[k]\n",
    "            Iterractions = Iterractions + 1\n",
    "            if Iterractions > IterMax_:\n",
    "                break\n",
    "    toc = time.process_time() -tic\n",
    "    return np.append(Theta_,[Iterractions,alpha_,toc])\n",
    "\n",
    "def GD_Work_Alpha(alpha_):\n",
    "    return GD(np.array([0.0,0.0,0.0,0.0,0.0,0.0]), alpha_, shared_x, shared_y, shared_IterMax, shared_StepLim)\n",
    "\n",
    "def init_worker_alpha(x_,y_,IterMax_,StepLim_):\n",
    "    global shared_x\n",
    "    global shared_y\n",
    "    global shared_IterMax\n",
    "    global shared_StepLim\n",
    "    \n",
    "    shared_x = x_\n",
    "    shared_y = y_\n",
    "    shared_IterMax = IterMax_\n",
    "    shared_StepLim = StepLim_"
   ]
  },
  {
   "cell_type": "markdown",
   "id": "46b48476-6903-45bb-b394-c8910c64c717",
   "metadata": {},
   "source": [
    "We can now try to find an optimal value for the step size $\\alpha$. To do this efficiently (without the GPU for now) we need to use multithreading."
   ]
  },
  {
   "cell_type": "markdown",
   "id": "e9f9fcb7-f26e-4b18-a38b-4298f1942247",
   "metadata": {},
   "source": [
    "We can now set the default parameters for the GD."
   ]
  },
  {
   "cell_type": "markdown",
   "id": "1b007c45-ef61-41be-8fc3-fb59dbceff1e",
   "metadata": {},
   "source": [
    "We define this function so we can pin point alpha."
   ]
  },
  {
   "cell_type": "code",
   "execution_count": 20,
   "id": "1a37216b-ad98-4ea0-964a-710ad256693c",
   "metadata": {},
   "outputs": [],
   "source": [
    "def TestForAlpha(alphas,IterMax,x,y,StepLim,LinePos):\n",
    "    \n",
    "    p = Pool(processes=multiprocessing.cpu_count(),initializer=init_worker_alpha, initargs=(x,y,IterMax,StepLim,))\n",
    "    \n",
    "    # With this we can implement a progress bar but the list is unordered\n",
    "    data = []\n",
    "    for dat in tqdm.tqdm(p.imap_unordered(GD_Work_Alpha, alphas), total=len(alphas)):\n",
    "        data.append(dat)\n",
    "    #Old method no progress bar but list is ordered       \n",
    "    #data = p.map(GD_Work_Alpha,alphas)\n",
    "    p.close()\n",
    "\n",
    "    Thetas = [] \n",
    "    cost = []\n",
    "    Iterrs = []\n",
    "    tocs = []\n",
    "    Alphas = []\n",
    "\n",
    "    for i, dat in zip(range(np.size(data,0)),data):\n",
    "        #if dat[6] < IterMax:\n",
    "        Thetas = np.append(Thetas, dat[0:6])\n",
    "        Iterrs = np.append(Iterrs,dat[6])\n",
    "        Alphas = np.append(Alphas,dat[7])\n",
    "        tocs = np.append(tocs,dat[8])\n",
    "        cost = np.append(cost,cost_func(dat[0:6],x,y))\n",
    "\n",
    "    combined = list(zip(Alphas, Thetas, Iterrs, tocs, cost))\n",
    "    sorted_combined = sorted(combined, key=lambda x: x[0])\n",
    "    Alphas, Thetas, Iterrs, tocs, cost = zip(*sorted_combined)\n",
    "    \n",
    "    Triplotlog(Alphas,Iterrs,cost,'Iter','Cost')\n",
    "    Triplotlog(Alphas,tocs,cost,'Time','Cost')"
   ]
  },
  {
   "cell_type": "markdown",
   "id": "3923d688-1432-4826-9251-e29902173506",
   "metadata": {},
   "source": [
    "Next we will test different values for alpha until we are confident in what the optimal value is."
   ]
  },
  {
   "cell_type": "code",
   "execution_count": 21,
   "id": "56a63f37-c6cf-4299-9ae1-b0d9cdd98da6",
   "metadata": {},
   "outputs": [
    {
     "name": "stderr",
     "output_type": "stream",
     "text": [
      "  0%|          | 0/20 [00:00<?, ?it/s]"
     ]
    }
   ],
   "source": [
    "IterMax = 10000 #Maximum number of iterations before the algorithm stops\n",
    "StepLim = 1e-20 #Smalest step that is considered to be non stationary (set to 0 for fixed number of iterations)\n",
    "LinePos = 1\n",
    "alphas = np.linspace(0.1,2,num=20)\n",
    "\n",
    "p = Pool(processes=multiprocessing.cpu_count(),initializer=init_worker_alpha, initargs=(x,y,IterMax,StepLim,))\n",
    "    \n",
    "# With this we can implement a progress bar but the list is unordered\n",
    "data = []\n",
    "for dat in tqdm.tqdm(p.imap_unordered(GD_Work_Alpha, alphas), total=len(alphas)):\n",
    "    data.append(dat)\n",
    "#Old method no progress bar but list is ordered       \n",
    "#data = p.map(GD_Work_Alpha,alphas)\n",
    "p.close()\n"
   ]
  },
  {
   "cell_type": "code",
   "execution_count": 22,
   "id": "667f9385-6d15-4fc9-aa4c-4c7d94f7276b",
   "metadata": {},
   "outputs": [],
   "source": [
    "Thetas = [] \n",
    "cost = []\n",
    "Iterrs = []\n",
    "tocs = []\n",
    "Alphas = []\n",
    "\n",
    "for i, dat in zip(range(np.size(data,0)),data):\n",
    "    #if dat[6] < IterMax:\n",
    "    Thetas = np.append(Thetas, dat[0:6])\n",
    "    Iterrs = np.append(Iterrs,dat[6])\n",
    "    Alphas = np.append(Alphas,dat[7])\n",
    "    tocs = np.append(tocs,dat[8])\n",
    "    cost = np.append(cost,cost_func(dat[0:6],x,y))\n",
    "    print('cost is : ',cost_func(dat[0:6],x,y),' for alpha = ', dat[7],'\\n And Theta is : ',dat[0:6], '\\n\\n\\n')\n",
    "\n",
    "combined = list(zip(Alphas, Thetas, Iterrs, tocs, cost))\n",
    "sorted_combined = sorted(combined, key=lambda x: x[0])\n",
    "Alphas, Thetas, Iterrs, tocs, cost = zip(*sorted_combined)\n",
    "\n",
    "\n",
    "\n",
    "fig, ax = plt.subplots()\n",
    "fig.subplots_adjust(right=0.75)\n",
    "\n",
    "twin1 = ax.twinx()\n",
    "twin2 = ax.twinx()\n",
    "\n",
    "# Offset the right spine of twin2.  The ticks and label have already been\n",
    "# placed on the right by twinx above.\n",
    "twin2.spines.right.set_position((\"axes\", 1.2))\n",
    "\n",
    "p1, = ax.plot(Alphas, cost, \"C0\", label=\"alpha\")\n",
    "p2, = twin1.plot(Alphas, Iterrs, \"C1\", label=\"Iterrations\")\n",
    "p3, = twin2.plot(Alphas, tocs, \"C2\", label=\"Time\")\n",
    "\n",
    "#ax.set(xlim=(0, 2), ylim=(0, 2), xlabel=\"Distance\", ylabel=\"Density\")\n",
    "#twin1.set(ylim=(0, 4), ylabel=\"Temperature\")\n",
    "#twin2.set(ylim=(1, 65), ylabel=\"Velocity\")\n",
    "ax.set( xlabel=\"alpha\", ylabel=\"cost\")\n",
    "twin1.set( ylabel=\"Iterractions\")\n",
    "twin2.set( ylabel=\"Time\")\n",
    "\n",
    "ax.yaxis.label.set_color(p1.get_color())\n",
    "twin1.yaxis.label.set_color(p2.get_color())\n",
    "twin2.yaxis.label.set_color(p3.get_color())\n",
    "\n",
    "ax.tick_params(axis='y', colors=p1.get_color())\n",
    "twin1.tick_params(axis='y', colors=p2.get_color())\n",
    "twin2.tick_params(axis='y', colors=p3.get_color())\n",
    "\n",
    "ax.legend(handles=[p1, p2, p3])\n",
    "\n",
    "plt.show()"
   ]
  },
  {
   "cell_type": "code",
   "execution_count": 7,
   "id": "addfa8b4-3795-477c-a96e-1f1accaa4bae",
   "metadata": {},
   "outputs": [
    {
     "name": "stderr",
     "output_type": "stream",
     "text": [
      "100%|██████████| 200/200 [00:00<00:00, 300.96it/s]\n"
     ]
    },
    {
     "data": {
      "image/png": "[encoded data removed]",
      "text/plain": [
       "<Figure size 640x480 with 3 Axes>"
      ]
     },
     "metadata": {},
     "output_type": "display_data"
    }
   ],
   "source": [
    "IterMax = 20000 #Maximum number of iterations before the algorithm stops\n",
    "StepLim = 0.3 #Smalest step that is considered to be non stationary (set to 0 for fixed number of iterations)\n",
    "LinePos = 1\n",
    "alphas = np.linspace(0.9,1.25,num=200)\n",
    "\n",
    "p = Pool(processes=multiprocessing.cpu_count(),initializer=init_worker_alpha, initargs=(x,y,IterMax,StepLim,))\n",
    "    \n",
    "# With this we can implement a progress bar but the list is unordered\n",
    "data = []\n",
    "for dat in tqdm.tqdm(p.imap_unordered(GD_Work_Alpha, alphas), total=len(alphas)):\n",
    "    data.append(dat)\n",
    "#Old method no progress bar but list is ordered       \n",
    "#data = p.map(GD_Work_Alpha,alphas)\n",
    "p.close()\n",
    "\n",
    "Thetas = [] \n",
    "cost = []\n",
    "Iterrs = []\n",
    "tocs = []\n",
    "Alphas = []\n",
    "\n",
    "for i, dat in zip(range(np.size(data,0)),data):\n",
    "    #if dat[6] < IterMax:\n",
    "    Thetas = np.append(Thetas, dat[0:6])\n",
    "    Iterrs = np.append(Iterrs,dat[6])\n",
    "    Alphas = np.append(Alphas,dat[7])\n",
    "    tocs = np.append(tocs,dat[8])\n",
    "    cost = np.append(cost,cost_func(dat[0:6],x,y))\n",
    "\n",
    "combined = list(zip(Alphas, Thetas, Iterrs, tocs, cost))\n",
    "sorted_combined = sorted(combined, key=lambda x: x[0])\n",
    "Alphas, Thetas, Iterrs, tocs, cost = zip(*sorted_combined)\n",
    "\n",
    "\n",
    "\n",
    "fig, ax = plt.subplots()\n",
    "fig.subplots_adjust(right=0.75)\n",
    "\n",
    "twin1 = ax.twinx()\n",
    "twin2 = ax.twinx()\n",
    "\n",
    "# Offset the right spine of twin2.  The ticks and label have already been\n",
    "# placed on the right by twinx above.\n",
    "twin2.spines.right.set_position((\"axes\", 1.2))\n",
    "\n",
    "p1, = ax.plot(Alphas, cost, \"C0\", label=\"alpha\")\n",
    "p2, = twin1.plot(Alphas, Iterrs, \"C1\", label=\"Iterrations\")\n",
    "p3, = twin2.plot(Alphas, tocs, \"C2\", label=\"Time\")\n",
    "\n",
    "#ax.set(xlim=(0, 2), ylim=(0, 2), xlabel=\"Distance\", ylabel=\"Density\")\n",
    "#twin1.set(ylim=(0, 4), ylabel=\"Temperature\")\n",
    "#twin2.set(ylim=(1, 65), ylabel=\"Velocity\")\n",
    "ax.set( xlabel=\"alpha\", ylabel=\"cost\")\n",
    "twin1.set( ylabel=\"Iterractions\")\n",
    "twin2.set( ylabel=\"Time\")\n",
    "\n",
    "ax.yaxis.label.set_color(p1.get_color())\n",
    "twin1.yaxis.label.set_color(p2.get_color())\n",
    "twin2.yaxis.label.set_color(p3.get_color())\n",
    "\n",
    "ax.tick_params(axis='y', colors=p1.get_color())\n",
    "twin1.tick_params(axis='y', colors=p2.get_color())\n",
    "twin2.tick_params(axis='y', colors=p3.get_color())\n",
    "\n",
    "ax.legend(handles=[p1, p2, p3])\n",
    "\n",
    "plt.show()"
   ]
  },
  {
   "cell_type": "markdown",
   "id": "974521f4-5dfc-4e6a-8e87-95a776d397db",
   "metadata": {},
   "source": [
    "Here we can that the optimal value for alpha is between 74 and 75. He will choose 74."
   ]
  },
  {
   "cell_type": "code",
   "execution_count": 13,
   "id": "6c4fd99f-03ad-4b7a-ba2a-555a5ca5d93c",
   "metadata": {},
   "outputs": [],
   "source": [
    "alpha = 2\n"
   ]
  },
  {
   "cell_type": "markdown",
   "id": "14eb9c83-9a0c-4784-8e4a-91e0af67de5a",
   "metadata": {},
   "source": [
    "#### (c) Plot cost function in number of iterations."
   ]
  },
  {
   "cell_type": "markdown",
   "id": "8927323e-1eb7-4531-b43c-0026d3d1d145",
   "metadata": {},
   "source": [
    "To do this using the same multiprocessing used previously we will define a new function for the workers."
   ]
  },
  {
   "cell_type": "code",
   "execution_count": 14,
   "id": "b5fe2c1c-747d-4b05-81be-fd56ad730e01",
   "metadata": {},
   "outputs": [],
   "source": [
    "def GD_Work_Iterr(IterMax_):\n",
    "    return GD(np.array([0,0,0,0,0,0]), shared_alpha, shared_x, shared_y, IterMax_, shared_StepLim)\n",
    "\n",
    "def init_worker_Iterr(x_,y_,alpha_,StepLim_):\n",
    "    global shared_x\n",
    "    global shared_y\n",
    "    global shared_alpha\n",
    "    global shared_StepLim\n",
    "    \n",
    "    shared_x = x_\n",
    "    shared_y = y_\n",
    "    shared_alpha = alpha_\n",
    "    shared_StepLim = StepLim_"
   ]
  },
  {
   "cell_type": "code",
   "execution_count": 15,
   "id": "c4fa215e-82f2-47e2-8c52-836e20f19452",
   "metadata": {},
   "outputs": [
    {
     "name": "stderr",
     "output_type": "stream",
     "text": [
      "100%|██████████| 5/5 [00:00<00:00, 226.94it/s]\n"
     ]
    },
    {
     "data": {
      "image/png": "[encoded data removed]",
      "text/plain": [
       "<Figure size 640x480 with 1 Axes>"
      ]
     },
     "metadata": {},
     "output_type": "display_data"
    }
   ],
   "source": [
    "StepLim = 0 #Smalest step that is considered to be non stationary (set to 0 for fixed number of iterations)\n",
    "LinePos = 1\n",
    "Iters = np.arange(0,5,1)\n",
    "\n",
    "p = Pool(processes=multiprocessing.cpu_count(),initializer=init_worker_Iterr, initargs=(x,y,alpha,StepLim,))\n",
    "    \n",
    "# With this we can implement a progress bar but the list is unordered\n",
    "data = []\n",
    "for dat in tqdm.tqdm(p.imap_unordered(GD_Work_Iterr, Iters), total=len(Iters)):\n",
    "    data.append(dat)\n",
    "#Old method no progress bar but list is ordered       \n",
    "#data = p.map(GD_Work_Alpha,alphas)\n",
    "p.close()\n",
    "\n",
    "Thetas = [] \n",
    "cost = []\n",
    "Iterrs = []\n",
    "tocs = []\n",
    "Alphas = []\n",
    "\n",
    "for i, dat in zip(range(np.size(data,0)),data):\n",
    "    #if dat[6] < IterMax:\n",
    "    Thetas = np.append(Thetas, dat[0:6])\n",
    "    Iterrs = np.append(Iterrs,dat[6])\n",
    "    Alphas = np.append(Alphas,dat[7])\n",
    "    tocs = np.append(tocs,dat[8])\n",
    "    cost = np.append(cost,cost_func(dat[0:6],x,y))\n",
    "\n",
    "combined = list(zip(Alphas, Thetas, Iterrs, tocs, cost))\n",
    "sorted_combined = sorted(combined, key=lambda x: x[0])\n",
    "Alphas, Thetas, Iterrs, tocs, cost = zip(*sorted_combined)\n",
    "\n",
    "\n",
    "fig, ax = plt.subplots()\n",
    "ax.plot(Iterrs, cost)\n",
    "\n",
    "ax.set(xlabel='Iterractions', ylabel='cost')\n",
    "ax.grid()\n",
    "\n",
    "fig.savefig(\"test.png\")\n",
    "plt.show()"
   ]
  },
  {
   "cell_type": "markdown",
   "id": "b016e468-aa3a-4b7a-bd24-0a13d6605de0",
   "metadata": {},
   "source": [
    "Let's Now test the test data:"
   ]
  },
  {
   "cell_type": "code",
   "execution_count": 33,
   "id": "a11f2039-e8f2-4730-b563-bf6876fdaa01",
   "metadata": {},
   "outputs": [
    {
     "name": "stdout",
     "output_type": "stream",
     "text": [
      "[0.28396979]\n"
     ]
    }
   ],
   "source": [
    "Theta = GD(np.array([0,0,0,0,0,0]), alpha, x, y, 200, 0)[0:6]\n",
    "\n",
    "mat = scipy.io.loadmat('Q1-Dataset/weighttest.mat')\n",
    "\n",
    "#Converting from dictonary array into numpy array\n",
    "x = np.array(mat['x'])\n",
    "y = np.array(mat['y'])\n",
    "\n",
    "#Normalizing the features\n",
    "for i in range(np.size(x,1)):\n",
    "    x[i,:]/= np.sqrt((x[i,:] ** 2).sum(-1))[..., np.newaxis]\n",
    "    \n",
    "print(cost_func(Theta,x,y))"
   ]
  },
  {
   "cell_type": "code",
   "execution_count": null,
   "id": "1e8764f6-d7d5-4c0e-aba0-bad35131674b",
   "metadata": {},
   "outputs": [],
   "source": []
  }
 ],
 "metadata": {
  "kernelspec": {
   "display_name": "Python 3 (ipykernel)",
   "language": "python",
   "name": "python3"
  },
  "language_info": {
   "codemirror_mode": {
    "name": "ipython",
    "version": 3
   },
   "file_extension": ".py",
   "mimetype": "text/x-python",
   "name": "python",
   "nbconvert_exporter": "python",
   "pygments_lexer": "ipython3",
   "version": "3.8.15+"
  }
 },
 "nbformat": 4,
 "nbformat_minor": 5
}
