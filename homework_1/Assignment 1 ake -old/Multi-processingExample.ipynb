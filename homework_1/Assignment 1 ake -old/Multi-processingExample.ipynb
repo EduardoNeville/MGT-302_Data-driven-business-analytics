{
 "cells": [
  {
   "cell_type": "code",
   "execution_count": 1,
   "id": "f6ac569d-b1a9-4e54-8105-371b60825be5",
   "metadata": {},
   "outputs": [
    {
     "name": "stdout",
     "output_type": "stream",
     "text": [
      "Number of cpu :  12\n"
     ]
    }
   ],
   "source": [
    "import multiprocessing\n",
    "\n",
    "print(\"Number of cpu : \", multiprocessing.cpu_count())"
   ]
  },
  {
   "cell_type": "code",
   "execution_count": 2,
   "id": "c6a72d83-c8ee-436f-a041-6e5f276dc53d",
   "metadata": {},
   "outputs": [
    {
     "name": "stdout",
     "output_type": "stream",
     "text": [
      "The name of continent is :  Asia\n",
      "The name of continent is : \n",
      " AmericaThe name of continent is :  Europe\n",
      "The name of continent is :  Africa\n"
     ]
    }
   ],
   "source": [
    "from multiprocessing import Process\n",
    "\n",
    "\n",
    "def print_func(continent='Asia'):\n",
    "    print('The name of continent is : ', continent)\n",
    "\n",
    "if __name__ == \"__main__\":  # confirms that the code is under main function\n",
    "    names = ['America', 'Europe', 'Africa']\n",
    "    procs = []\n",
    "    proc = Process(target=print_func)  # instantiating without any argument\n",
    "    procs.append(proc)\n",
    "    proc.start()\n",
    "\n",
    "    # instantiating process with arguments\n",
    "    for name in names:\n",
    "        # print(name)\n",
    "        proc = Process(target=print_func, args=(name,))\n",
    "        procs.append(proc)\n",
    "        proc.start()\n",
    "\n",
    "    # complete the processes\n",
    "    for proc in procs:\n",
    "        proc.join()"
   ]
  },
  {
   "cell_type": "code",
   "execution_count": 10,
   "id": "363a1e67-5c55-49ba-8369-971631250645",
   "metadata": {},
   "outputs": [
    {
     "name": "stdout",
     "output_type": "stream",
     "text": [
      "pushing items to queue:\n",
      "item no:  1   red\n",
      "item no:  2   green\n",
      "item no:  3   blue\n",
      "item no:  4   black\n",
      "\n",
      "popping items from queue:\n",
      "item no:  0   red\n",
      "item no:  1   green\n",
      "item no:  2   blue\n",
      "item no:  3   black\n"
     ]
    }
   ],
   "source": [
    "from multiprocessing import Queue\n",
    "\n",
    "colors = ['red', 'green', 'blue', 'black']\n",
    "cnt = 1\n",
    "# instantiating a queue object\n",
    "queue = Queue()\n",
    "print('pushing items to queue:')\n",
    "for color in colors:\n",
    "    print('item no: ', cnt, ' ', color)\n",
    "    queue.put(color)\n",
    "    cnt += 1\n",
    "\n",
    "print('\\npopping items from queue:')\n",
    "cnt = 0\n",
    "while not queue.empty():\n",
    "    print('item no: ', cnt, ' ', queue.get())\n",
    "    cnt += 1"
   ]
  },
  {
   "cell_type": "code",
   "execution_count": 13,
   "id": "b616227f-b2ce-47af-8568-5ef33d181442",
   "metadata": {},
   "outputs": [
    {
     "name": "stdout",
     "output_type": "stream",
     "text": [
      " Process D waiting 7 seconds Process A waiting 10 seconds Process B waiting 9 seconds Process C waiting 8 seconds\n",
      "\n",
      "\n",
      "\n",
      " Process D Finished.\n",
      " Process C Finished.\n",
      " Process B Finished.\n",
      " Process A Finished.\n"
     ]
    }
   ],
   "source": [
    "from multiprocessing import Pool\n",
    "\n",
    "import time\n",
    "\n",
    "work = ([\"A\", 10], [\"B\", 9], [\"C\", 8], [\"D\", 7])\n",
    "\n",
    "\n",
    "def work_log(work_data):\n",
    "    print(\" Process %s waiting %s seconds\" % (work_data[0], work_data[1]))\n",
    "    time.sleep(int(work_data[1]))\n",
    "    print(\" Process %s Finished.\" % work_data[0])\n",
    "\n",
    "\n",
    "def pool_handler():\n",
    "    p = Pool(4)\n",
    "    p.map(work_log, work)\n",
    "\n",
    "\n",
    "if __name__ == '__main__':\n",
    "    pool_handler()"
   ]
  },
  {
   "cell_type": "code",
   "execution_count": 15,
   "id": "5c1b1a25-8506-48cf-b5ba-a350ab076e86",
   "metadata": {},
   "outputs": [
    {
     "name": "stdout",
     "output_type": "stream",
     "text": [
      "[0, 2, 4, 6, 8, 10, 12, 14, 16, 18, 20, 22, 24, 26, 28, 30, 32, 34, 36, 38]\n"
     ]
    }
   ],
   "source": [
    "from multiprocessing import Pool\n",
    "\n",
    "def job(num):\n",
    "    return num * 2\n",
    "\n",
    "p = Pool(processes=20)\n",
    "data = p.map(job, [i for i in range(20)])\n",
    "p.close()\n",
    "print(data)"
   ]
  },
  {
   "cell_type": "code",
   "execution_count": null,
   "id": "3e11a4b1-7920-46d5-b9cf-5bcc101620a5",
   "metadata": {},
   "outputs": [],
   "source": [
    "class GD_Thread (threading.Thread):\n",
    "    def __init__(self, threadID, name, Theta, alpha, x, y, IterrsMax, StepLim):\n",
    "        threading.Thread.__init__(self)\n",
    "        self.threadID = threadID\n",
    "        self.name = name\n",
    "        self.alpha = alpha\n",
    "        self.Theta = Theta\n",
    "        self.x = x\n",
    "        self.y = y\n",
    "        self.IterrsMax = IterrsMax\n",
    "        self.StepLim = StepLim\n",
    "        self.Handled = False\n",
    "    def run(self):\n",
    "        self.Theta, self.cost, self.Iterrs = GD(self.Theta, self.alpha, self.x, self.y,self.IterrsMax, self.StepLim)  \n",
    "    def join(self):\n",
    "        threading.Thread.join(self)\n",
    "        return self.Theta, self.cost, self.Iterrs\n",
    "    def get_Id(self):\n",
    "        return self.threadID"
   ]
  },
  {
   "cell_type": "code",
   "execution_count": null,
   "id": "0083f296-c5d2-40ca-a2ce-e7629d34eb35",
   "metadata": {},
   "outputs": [],
   "source": [
    "alphas = np.logspace(0.001,100,50)\n",
    "cost = np.zeros(np.size(alphas))\n",
    "Iterrs = np.zeros(np.size(alphas))\n",
    "\n",
    "Thetas = []\n",
    "for k in range(np.size(alphas)):\n",
    "    Thetas.append( Theta )\n",
    "    \n",
    "\n",
    "Threads = []\n",
    "    \n",
    "\n",
    "for alpha,j in zip(alphas,range(np.size(alphas,0))):\n",
    "    #print('creating thread for : ',alpha)\n",
    "    Threads.append(GD_Thread(j,'alpha = '+str(alpha),Theta,alpha,x,y,IterMax,StepLim))\n",
    "    Threads[j].start()\n",
    "\n",
    "print(len(Threads))\n",
    "\n",
    "while len(Threads) > 0 :\n",
    "    for Thread in Threads:\n",
    "        if not Thread.is_alive():\n",
    "            Id = Thread.get_Id()\n",
    "            Thetas[Id], cost[Id], Iterrs[Id] = Thread.join()\n",
    "            Thread.Handled = True\n",
    "            #print('thread Id :'+str(Id) + ' is dead')\n",
    "            \n",
    "    Threads = [thread for thread in Threads if not thread.Handled]\n",
    "    clear_output(wait=True)\n",
    "    print(len(Threads))\n",
    "\n",
    "    \n",
    "print('Done')\n"
   ]
  }
 ],
 "metadata": {
  "kernelspec": {
   "display_name": "Python 3 (ipykernel)",
   "language": "python",
   "name": "python3"
  },
  "language_info": {
   "codemirror_mode": {
    "name": "ipython",
    "version": 3
   },
   "file_extension": ".py",
   "mimetype": "text/x-python",
   "name": "python",
   "nbconvert_exporter": "python",
   "pygments_lexer": "ipython3",
   "version": "3.9.13"
  }
 },
 "nbformat": 4,
 "nbformat_minor": 5
}
