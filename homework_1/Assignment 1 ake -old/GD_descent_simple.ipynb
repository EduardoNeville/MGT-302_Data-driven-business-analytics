{
 "cells": [
  {
   "cell_type": "code",
   "execution_count": 21,
   "id": "6447fa75-403a-4ca4-943d-5e8c032d8120",
   "metadata": {},
   "outputs": [],
   "source": [
    "import numpy as np \n",
    "import scipy.io\n",
    "import matplotlib.pyplot as plt\n",
    "from mpl_toolkits.axes_grid1 import host_subplot\n",
    "import mpl_toolkits.axisartist as AA\n",
    "import time\n",
    "from IPython.display import clear_output\n",
    "import multiprocessing\n",
    "from multiprocessing import Pool\n",
    "import tqdm\n",
    "\n",
    "from LocalUtilities import *"
   ]
  },
  {
   "cell_type": "code",
   "execution_count": 23,
   "id": "ceb61458-fa41-41bc-afc2-e7b3850627fc",
   "metadata": {},
   "outputs": [],
   "source": [
    "#Loading the training data\n",
    "mat = scipy.io.loadmat('Q1-Dataset/weighttrain.mat')\n",
    "\n",
    "#Converting from dictonary array into numpy array\n",
    "x = np.array(mat['x'], dtype=np.float64)\n",
    "y = np.array(mat['y'], dtype=np.float64)\n",
    "#Normalising the features for optimal performance \n",
    "norme_of_x = np.linalg.norm(x)\n",
    "x = x / norme_of_x"
   ]
  },
  {
   "cell_type": "code",
   "execution_count": 24,
   "id": "a20b418f-24c8-4953-b1b5-9fb897f13225",
   "metadata": {},
   "outputs": [],
   "source": [
    "def h_Theta(Theta_,x_i_):\n",
    "    return Theta_[0] + np.dot(Theta_[1:6],x_i_)\n",
    "\n",
    "def cost_func(Theta_,x_,y_):\n",
    "    _sum = np.float64(0.0)\n",
    "    for x_i, y_i in zip(x_, y_):\n",
    "        _sum = _sum + np.square( h_Theta( Theta_, x_i ) - y_i )\n",
    "        \n",
    "    return np.divide(_sum,2*np.size(x,0))\n",
    "    \n",
    "def cost_func_grad(Theta_,x_,y_):\n",
    "    _sum = np.float64(0.0)\n",
    "    for x_i, y_i in zip(x_, y_):\n",
    "        _sum = _sum + ( h_Theta( Theta_,x_i ) - y_i ) * np.insert(x_i, 0,np.float64(1.0))\n",
    "        \n",
    "    return _sum/np.size(x_,0)\n",
    "\n",
    "def gd_iterration(Theta_,alpha_,x_,y_):\n",
    "        return Theta_ - alpha_ * cost_func_grad(Theta_,x_,y_)\n"
   ]
  },
  {
   "cell_type": "code",
   "execution_count": 30,
   "id": "c756effc-d370-41c7-b10f-303b0d945617",
   "metadata": {},
   "outputs": [
    {
     "name": "stdout",
     "output_type": "stream",
     "text": [
      "Nr of Iterrations :  103  \n",
      " Time :  0.5904674500000056 \n",
      " Final Theta :  [ 22.2980655   29.94147494  17.61711559  -4.98895916  38.73690521\n",
      " -45.9205035 ] \n",
      " Final Cost :  [46.8161847]\n"
     ]
    }
   ],
   "source": [
    "alpha = np.float64(1.9)\n",
    "StepLim = np.float64(0.001)\n",
    "IterMax = 20000\n",
    "\n",
    "Theta = np.array([0,0,0,0,0,0], dtype=np.float64)\n",
    "Iterractions = 1\n",
    "\n",
    "tic = time.process_time()\n",
    "\n",
    "Theta_old = Theta\n",
    "Theta = gd_iterration(Theta,alpha,x,y)\n",
    "\n",
    "while not all(abs(cost_func_grad(Theta,x,y)-cost_func_grad(Theta_old,x,y)) < StepLim):\n",
    "    Theta_old = Theta\n",
    "    Theta = gd_iterration(Theta,alpha,x,y)\n",
    "    Iterractions = Iterractions + 1\n",
    "    if Iterractions > IterMax or any(np.isnan(Theta)):\n",
    "        break\n",
    "    #print(Theta,'\\n')\n",
    "toc = time.process_time() - tic\n",
    "\n",
    "\n",
    "print('Nr of Iterrations : ',Iterractions,' \\n','Time : ',toc,'\\n', 'Final Theta : ',Theta,'\\n','Final Cost : ',cost_func(Theta,x,y))"
   ]
  },
  {
   "cell_type": "code",
   "execution_count": null,
   "id": "2ac7f440-5334-4bb0-9165-88677a3bca70",
   "metadata": {},
   "outputs": [],
   "source": []
  },
  {
   "cell_type": "code",
   "execution_count": null,
   "id": "7c9e2797-fd42-4fe6-b696-0675ac481af3",
   "metadata": {},
   "outputs": [],
   "source": []
  }
 ],
 "metadata": {
  "kernelspec": {
   "display_name": "Python 3 (ipykernel)",
   "language": "python",
   "name": "python3"
  },
  "language_info": {
   "codemirror_mode": {
    "name": "ipython",
    "version": 3
   },
   "file_extension": ".py",
   "mimetype": "text/x-python",
   "name": "python",
   "nbconvert_exporter": "python",
   "pygments_lexer": "ipython3",
   "version": "3.9.13"
  }
 },
 "nbformat": 4,
 "nbformat_minor": 5
}
